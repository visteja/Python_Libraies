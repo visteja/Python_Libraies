{
 "cells": [
  {
   "cell_type": "code",
   "execution_count": 4,
   "id": "cb93af2f-d88f-4985-8f69-fe2c47d36d05",
   "metadata": {},
   "outputs": [
    {
     "data": {
      "text/plain": [
       "'\\nNumPy, short for Numerical Python, is a fundamental package for scientific computing in Python.\\nIt provides support for large, multi-dimensional arrays and matrices, along with a collection of \\nmathematical functions to operate on these arrays efficiently. Numpy arrays are of two types\\nvectors 1-D arrays, matrices 2-D arrays\\n'"
      ]
     },
     "execution_count": 4,
     "metadata": {},
     "output_type": "execute_result"
    }
   ],
   "source": [
    "'''\n",
    "NumPy, short for Numerical Python, is a fundamental package for scientific computing in Python.\n",
    "It provides support for large, multi-dimensional arrays and matrices, along with a collection of \n",
    "mathematical functions to operate on these arrays efficiently. Numpy arrays are of two types\n",
    "vectors 1-D arrays, matrices 2-D arrays\n",
    "'''"
   ]
  },
  {
   "cell_type": "code",
   "execution_count": 5,
   "id": "b65d2f74-9b5d-430e-ba5a-4846268fcf69",
   "metadata": {},
   "outputs": [
    {
     "name": "stdout",
     "output_type": "stream",
     "text": [
      "Defaulting to user installation because normal site-packages is not writeable\n",
      "Requirement already satisfied: numpy in v:\\apps\\anaconda\\lib\\site-packages (1.26.4)\n",
      "Note: you may need to restart the kernel to use updated packages.\n"
     ]
    }
   ],
   "source": [
    "pip install numpy"
   ]
  },
  {
   "cell_type": "code",
   "execution_count": 6,
   "id": "e6d43236-91bc-4984-b187-8a55c7c2ba0a",
   "metadata": {},
   "outputs": [],
   "source": [
    "import numpy as np"
   ]
  },
  {
   "cell_type": "code",
   "execution_count": 7,
   "id": "bc1b6272-a38e-45c7-963a-b26dc587f34b",
   "metadata": {},
   "outputs": [],
   "source": [
    "my_list = [1,2,3]"
   ]
  },
  {
   "cell_type": "code",
   "execution_count": 8,
   "id": "f9bd43f1-d4eb-46b5-b897-1e5221d9f324",
   "metadata": {},
   "outputs": [],
   "source": [
    "arr = np.array(my_list)"
   ]
  },
  {
   "cell_type": "code",
   "execution_count": 9,
   "id": "5577daa7-e75c-4864-b912-b40b1fc0e4b9",
   "metadata": {},
   "outputs": [
    {
     "data": {
      "text/plain": [
       "array([1, 2, 3])"
      ]
     },
     "execution_count": 9,
     "metadata": {},
     "output_type": "execute_result"
    }
   ],
   "source": [
    "arr"
   ]
  },
  {
   "cell_type": "code",
   "execution_count": 11,
   "id": "29e08852-53ca-4bb7-bd51-9f8b9bab1955",
   "metadata": {},
   "outputs": [],
   "source": [
    "my_mat = [[1,2,3],[4,5,6],[7,8,9]] "
   ]
  },
  {
   "cell_type": "code",
   "execution_count": 12,
   "id": "907b73dc-6093-43b2-9d33-17c182301ed5",
   "metadata": {},
   "outputs": [
    {
     "data": {
      "text/plain": [
       "array([[1, 2, 3],\n",
       "       [4, 5, 6],\n",
       "       [7, 8, 9]])"
      ]
     },
     "execution_count": 12,
     "metadata": {},
     "output_type": "execute_result"
    }
   ],
   "source": [
    "np.array(my_mat) #"
   ]
  },
  {
   "cell_type": "code",
   "execution_count": 14,
   "id": "f2e465bf-11ff-46b1-a61d-eb2d3e0c7a19",
   "metadata": {},
   "outputs": [
    {
     "data": {
      "text/plain": [
       "array([0, 1, 2, 3, 4, 5, 6, 7, 8, 9])"
      ]
     },
     "execution_count": 14,
     "metadata": {},
     "output_type": "execute_result"
    }
   ],
   "source": [
    "np.arange(0,10)"
   ]
  },
  {
   "cell_type": "code",
   "execution_count": 15,
   "id": "abaa5c0d-007c-484b-bb74-638aab13a748",
   "metadata": {},
   "outputs": [
    {
     "data": {
      "text/plain": [
       "array([0, 2, 4, 6, 8])"
      ]
     },
     "execution_count": 15,
     "metadata": {},
     "output_type": "execute_result"
    }
   ],
   "source": [
    "np.arange(0,10,2)"
   ]
  },
  {
   "cell_type": "code",
   "execution_count": 17,
   "id": "6f7f8db9-ae81-42c6-9679-079ced5dfcd3",
   "metadata": {},
   "outputs": [
    {
     "data": {
      "text/plain": [
       "array([0., 0., 0., 0.])"
      ]
     },
     "execution_count": 17,
     "metadata": {},
     "output_type": "execute_result"
    }
   ],
   "source": [
    "np.zeros(4)"
   ]
  },
  {
   "cell_type": "code",
   "execution_count": 18,
   "id": "74822067-fcf8-4401-8adb-3429c85532d3",
   "metadata": {},
   "outputs": [
    {
     "data": {
      "text/plain": [
       "array([1., 1., 1.])"
      ]
     },
     "execution_count": 18,
     "metadata": {},
     "output_type": "execute_result"
    }
   ],
   "source": [
    "np.ones(3)"
   ]
  },
  {
   "cell_type": "code",
   "execution_count": null,
   "id": "6a456d2c-ec59-4801-8255-b7ef308e5c5f",
   "metadata": {},
   "outputs": [],
   "source": []
  },
  {
   "cell_type": "code",
   "execution_count": null,
   "id": "80229960-5f93-4cfa-826e-e51a92d39692",
   "metadata": {},
   "outputs": [],
   "source": [
    "#NumPy is widely used for numerical computing tasks such as arithmetic operations, linear algebra, and statistical analysis."
   ]
  },
  {
   "cell_type": "code",
   "execution_count": 19,
   "id": "af4dc946-8fc1-42d6-b72c-506a342c4a02",
   "metadata": {},
   "outputs": [
    {
     "name": "stdout",
     "output_type": "stream",
     "text": [
      "[5 7 9]\n"
     ]
    }
   ],
   "source": [
    "import numpy as np\n",
    "\n",
    "# Arithmetic operations\n",
    "arr1 = np.array([1, 2, 3])\n",
    "arr2 = np.array([4, 5, 6])\n",
    "result = arr1 + arr2\n",
    "print(result)"
   ]
  },
  {
   "cell_type": "code",
   "execution_count": 20,
   "id": "5434e690-471b-414a-a6cf-2f722a475b3f",
   "metadata": {},
   "outputs": [
    {
     "name": "stdout",
     "output_type": "stream",
     "text": [
      "[-0.37228132  5.37228132]\n"
     ]
    }
   ],
   "source": [
    "# Linear algebra operations\n",
    "matrix = np.array([[1, 2], [3, 4]])\n",
    "eigenvalues, eigenvectors = np.linalg.eig(matrix)\n",
    "print(eigenvalues)"
   ]
  },
  {
   "cell_type": "code",
   "execution_count": 21,
   "id": "e665375e-3413-4c85-88d5-1e0eb944e34b",
   "metadata": {},
   "outputs": [
    {
     "name": "stdout",
     "output_type": "stream",
     "text": [
      "Mean: -0.0003652202716754154\n",
      "Standard Deviation: 1.0121868959414189\n"
     ]
    }
   ],
   "source": [
    "# Statistical analysis\n",
    "data = np.random.normal(loc=0, scale=1, size=1000)\n",
    "mean = np.mean(data)\n",
    "std_dev = np.std(data)\n",
    "print(\"Mean:\", mean)\n",
    "print(\"Standard Deviation:\", std_dev)"
   ]
  },
  {
   "cell_type": "code",
   "execution_count": 22,
   "id": "1e6dfe65-f9c4-44f4-8a74-7e6fb72f823f",
   "metadata": {},
   "outputs": [],
   "source": [
    "data = np.random.normal(loc=0, scale=1, size=1000)"
   ]
  },
  {
   "cell_type": "code",
   "execution_count": null,
   "id": "a29adeda-7da9-48f1-844f-e67332f23a49",
   "metadata": {},
   "outputs": [],
   "source": [
    "#NumPy provides efficient data structures and functions for manipulating large datasets."
   ]
  },
  {
   "cell_type": "code",
   "execution_count": 24,
   "id": "760fb7b5-cafa-48f2-8e77-0d9b33ab1a70",
   "metadata": {},
   "outputs": [],
   "source": [
    "import numpy as np\n",
    "\n",
    "# Creating NumPy arrays\n",
    "data = [1, 2, 3, 4, 5]\n",
    "arr = np.array(data)"
   ]
  },
  {
   "cell_type": "code",
   "execution_count": 25,
   "id": "93015b39-abd8-45d1-8f0a-ab97bb03be58",
   "metadata": {},
   "outputs": [
    {
     "data": {
      "text/plain": [
       "array([1, 2, 3, 4, 5])"
      ]
     },
     "execution_count": 25,
     "metadata": {},
     "output_type": "execute_result"
    }
   ],
   "source": [
    "arr"
   ]
  },
  {
   "cell_type": "code",
   "execution_count": 26,
   "id": "87aee81e-6acf-4cc9-a5d3-24153bee0b06",
   "metadata": {},
   "outputs": [
    {
     "name": "stdout",
     "output_type": "stream",
     "text": [
      "[[1 2 3 4 5]]\n"
     ]
    }
   ],
   "source": [
    "# Reshaping arrays\n",
    "reshaped_arr = arr.reshape(1, 5)\n",
    "print(reshaped_arr)"
   ]
  },
  {
   "cell_type": "code",
   "execution_count": 27,
   "id": "db6f00bd-0222-480a-85bd-bcc65519201b",
   "metadata": {},
   "outputs": [
    {
     "name": "stdout",
     "output_type": "stream",
     "text": [
      "3\n",
      "[2 3 4]\n"
     ]
    }
   ],
   "source": [
    "# Indexing and slicing\n",
    "print(arr[2])  \n",
    "print(arr[1:4])"
   ]
  },
  {
   "cell_type": "code",
   "execution_count": 28,
   "id": "0fbcd005-18e4-475c-8659-fbdb2c36a482",
   "metadata": {},
   "outputs": [],
   "source": [
    "#NumPy is a fundamental building block for implementing machine learning algorithms and handling data in machine learning tasks."
   ]
  },
  {
   "cell_type": "code",
   "execution_count": 29,
   "id": "3047f650-ecaf-46a6-b42b-ef083fceb668",
   "metadata": {},
   "outputs": [],
   "source": [
    "import numpy as np\n",
    "from sklearn.datasets import load_iris\n",
    "from sklearn.model_selection import train_test_split\n",
    "from sklearn.linear_model import LogisticRegression"
   ]
  },
  {
   "cell_type": "code",
   "execution_count": 30,
   "id": "9d99f069-7f26-4fe1-b9ff-12710293d237",
   "metadata": {},
   "outputs": [],
   "source": [
    "# Load Iris dataset\n",
    "iris = load_iris()\n",
    "X, y = iris.data, iris.target"
   ]
  },
  {
   "cell_type": "code",
   "execution_count": 37,
   "id": "ddad73c1-16da-4ffb-b4a0-1230a0ceea10",
   "metadata": {},
   "outputs": [],
   "source": [
    "# Split dataset into training and testing sets\n",
    "X_train, X_test, y_train, y_test = train_test_split(X, y, test_size=0.2)\n",
    "\n"
   ]
  }
 ],
 "metadata": {
  "kernelspec": {
   "display_name": "Python 3 (ipykernel)",
   "language": "python",
   "name": "python3"
  },
  "language_info": {
   "codemirror_mode": {
    "name": "ipython",
    "version": 3
   },
   "file_extension": ".py",
   "mimetype": "text/x-python",
   "name": "python",
   "nbconvert_exporter": "python",
   "pygments_lexer": "ipython3",
   "version": "3.11.7"
  },
  "widgets": {
   "application/vnd.jupyter.widget-state+json": {
    "state": {},
    "version_major": 2,
    "version_minor": 0
   }
  }
 },
 "nbformat": 4,
 "nbformat_minor": 5
}
